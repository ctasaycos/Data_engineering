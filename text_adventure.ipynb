{
 "cells": [
  {
   "cell_type": "code",
   "execution_count": null,
   "id": "ad683b02",
   "metadata": {
    "ExecuteTime": {
     "start_time": "2021-10-24T22:03:57.779Z"
    },
    "run_control": {
     "marked": true
    }
   },
   "outputs": [],
   "source": [
    "#A1: Text Adventure Game Development\n",
    "\n",
    "#Fail function\n",
    "def fail_function():\n",
    "    print (\"You will be back on the coach, and see the scene again. This time try harder.\\n\")\n",
    "    first_event() \n",
    "\n",
    "#This is the game you have to help the main character\n",
    "#The first event describe the scenario\n",
    "def first_event():\n",
    "    \"\"\"This is a scene from a movie starred by Nicolas Cage named \"Knowing\". He finds a paper which has been given to his son from elementary school, he was drunk on the couch and turn on the TV seeing how some numbers of the paper has a relation with some accident dates. The character has to deal with a lot of problems since the credentials of the computer of his son to convince his colleagues about this discovery\n",
    "    \"\"\"\n",
    "    print(\"\\n WELCOME TO THE FIRST EVENT: A professor of the MIT has a paper with a huge quantity of numbers, while he is drinking wine on the couch seeing the news. A report is broadcast on the 20th anniversary of the attack on the twin towers, he see the numbers of the date in the paper, y try to remember some information about it \\n\")   \n",
    "    \n",
    "    day = input(\"\\n What is the day of September when this accident happened?\\n \")\n",
    "    if day == '11':\n",
    "        second_event() \n",
    "    else:\n",
    "        print(\"The day doesn´t match and the professor fell sleep.\\n\")\n",
    "        fail_function() \n",
    "\n",
    "#Now Nicolas is looking for the source of the paper however we have to deal with technical problems, this the typical security procedure that any system gives to the users\n",
    "def second_event(): \n",
    "    print(\"\\n WELCOME TO THE SECOND EVENT: Nicolas is worried, and go to his office. Looking for more information about the paper, find the computer of his son but don´t know his password. He only has 3 chances to responds the questions to recover the password. \\n\")\n",
    "    Attempts = 3\n",
    "    correct_answer= 5\n",
    "    while Attempts > 0:\n",
    "#I use try and except in case the user wants to write it should count as an attempt, only show a message explaining this.\n",
    "        try:\n",
    "            Answers = input(prompt = '\\n  What is the third prime number? (He is really drunk) \\n')\n",
    "            Answers = int(Answers)\n",
    "        \n",
    "            if Answers == correct_answer:\n",
    "                third_event()\n",
    "                break\n",
    "            \n",
    "            elif Answers != correct_answer:\n",
    "                Attempts -= 1\n",
    "            \n",
    "                if Attempts > 0:\n",
    "                    print (f\"\\n You have a PHD degree you should know this. You only have {Attempts} attempts before the account will be close for 24 hours\")\n",
    "                \n",
    "                elif Attempts == 0:\n",
    "                    print (f\"\\n You are out of chances.\\n\")\n",
    "                    fail_function()\n",
    "                    \n",
    "#The user should not see this, because we are using try and except for a bad format input            \n",
    "                else:\n",
    "                    print(\"The developer will be fired if you see this message, because is ilogical to see this.\")\n",
    "            else:\n",
    "                print(\"If you see this message please call us to fire our head of IT.\")\n",
    "        except:\n",
    "            print(\"\\n You cannot enter this value, remember to use numbers not letters\")\n",
    "\n",
    "#He finds information about the paper.\n",
    "\n",
    "def third_event(): \n",
    "    print(\"\\n WELCOME TO THE THIRD EVENT: He discovers that the sheet that his son has belonged to a scientist who told his colleagues this and sent him to an asylum. However, he will take note of more information about the accident so that it is not considered a coincidence by his colleagues. \\n\")\n",
    "\n",
    "#I am using a list with the two correct answers\n",
    "#The empty list proofs will store every correct answer and compares with the list\n",
    "    proofs=[]\n",
    "    correct_proofs= ['2001','9']\n",
    "\n",
    "    Answer1 = input(prompt = \"\\n  what was the year when the accident occurred? \\n\")\n",
    "    proofs.append(Answer1)\n",
    "    if proofs[0] == correct_proofs[0]:\n",
    "        Answer2 = input(prompt = \"\\n  what is the number of the month when this accident happened \\n\") \n",
    "        proofs.append(Answer2)\n",
    "        if proofs[1] == correct_proofs[1]:\n",
    "            fourth_event()\n",
    "        else: \n",
    "            print(\"\\n Know the month is important too. They will make fun of him on campus \\n\")\n",
    "            fail_function()\n",
    "    else: \n",
    "        print(\"\\n The collegues of him, will think he is too drunk and don´t believe him. Because the answer is wrong \\n\")\n",
    "        fail_function()\n",
    "\n",
    "#Finally, he is in the MIT, prepare to communicate it.                       \n",
    "def fourth_event(): \n",
    "    print(\"\\n WELCOME TO THE FOURTH EVENT: Is morning of the next day. He arrives to his office and show the paper with a list of accidents which dates are the written on the paper. His collegue cannot believe him and ask him to quiz of 2 questions about math, because he has a hangover only if he pass they will call the white house.\\n\")\n",
    "#I use a variable i with an initival value of 0, r1,r2,r3 will be the correct answers, and q1,q2,q3 the answers given by the user\n",
    "    i=0\n",
    "    r1=4\n",
    "    r2=1\n",
    "    r3=0\n",
    "    for i in range(3):\n",
    "        i = i + 1\n",
    "        q1 = input(prompt = '\\n  how much is 2 * 2? \\n')\n",
    "        q1 = int(q1)\n",
    "        if q1 == 4:\n",
    "            q2 = input(prompt = '\\n  how much is 3 - 2? \\n')\n",
    "            q2 = int(q2)\n",
    "            if q2 == 1:\n",
    "                q3 = input(prompt = '\\n  how much is 1000000000324324*0? \\n')\n",
    "                q3 = int(q3)\n",
    "                if q3 == 0:\n",
    "                    last_event()\n",
    "                    break\n",
    "                else:\n",
    "                    print(f\"\\n Wrong, you are crazy go to the clinic the answer is {r3}. \\n\")\n",
    "                    fail_function()\n",
    "            else:\n",
    "                print(f\"\\n Wrong, you are crazy go to the clinic the answer is {r2}. \\n\")\n",
    "                fail_function()\n",
    "        else:\n",
    "            print(f\"\\n Wrong, you are crazy go to the clinic the answer is {r1}. \\n\")\n",
    "            fail_function()\n",
    "\n",
    "#This message only will appear if the user has respond all the question correctly                        \n",
    "def last_event(): \n",
    "    print(\"CONGRATULATIONS YOU HAVE SAVED THE WORLD: He proves he is ok, they call to the white house and begin a new era to the our planet.\")    \n",
    "    \n",
    "first_event() # The first function, which starts the game"
   ]
  },
  {
   "cell_type": "code",
   "execution_count": null,
   "id": "ff53ad01",
   "metadata": {
    "ExecuteTime": {
     "end_time": "2021-10-24T13:51:42.796552Z",
     "start_time": "2021-10-24T13:51:42.789991Z"
    }
   },
   "outputs": [],
   "source": [
    "print(first_event.__doc__)"
   ]
  },
  {
   "cell_type": "code",
   "execution_count": null,
   "id": "70c1f7a8",
   "metadata": {},
   "outputs": [],
   "source": []
  }
 ],
 "metadata": {
  "hide_input": false,
  "kernelspec": {
   "display_name": "Python 3",
   "language": "python",
   "name": "python3"
  },
  "language_info": {
   "codemirror_mode": {
    "name": "ipython",
    "version": 3
   },
   "file_extension": ".py",
   "mimetype": "text/x-python",
   "name": "python",
   "nbconvert_exporter": "python",
   "pygments_lexer": "ipython3",
   "version": "3.8.8"
  },
  "latex_envs": {
   "LaTeX_envs_menu_present": true,
   "autoclose": false,
   "autocomplete": true,
   "bibliofile": "biblio.bib",
   "cite_by": "apalike",
   "current_citInitial": 1,
   "eqLabelWithNumbers": true,
   "eqNumInitial": 1,
   "hotkeys": {
    "equation": "Ctrl-E",
    "itemize": "Ctrl-I"
   },
   "labels_anchors": false,
   "latex_user_defs": false,
   "report_style_numbering": false,
   "user_envs_cfg": false
  },
  "nbTranslate": {
   "displayLangs": [
    "*"
   ],
   "hotkey": "alt-t",
   "langInMainMenu": true,
   "sourceLang": "en",
   "targetLang": "fr",
   "useGoogleTranslate": true
  },
  "toc": {
   "base_numbering": 1,
   "nav_menu": {},
   "number_sections": true,
   "sideBar": true,
   "skip_h1_title": false,
   "title_cell": "Table of Contents",
   "title_sidebar": "Contents",
   "toc_cell": false,
   "toc_position": {},
   "toc_section_display": true,
   "toc_window_display": false
  },
  "varInspector": {
   "cols": {
    "lenName": 16,
    "lenType": 16,
    "lenVar": 40
   },
   "kernels_config": {
    "python": {
     "delete_cmd_postfix": "",
     "delete_cmd_prefix": "del ",
     "library": "var_list.py",
     "varRefreshCmd": "print(var_dic_list())"
    },
    "r": {
     "delete_cmd_postfix": ") ",
     "delete_cmd_prefix": "rm(",
     "library": "var_list.r",
     "varRefreshCmd": "cat(var_dic_list()) "
    }
   },
   "types_to_exclude": [
    "module",
    "function",
    "builtin_function_or_method",
    "instance",
    "_Feature"
   ],
   "window_display": false
  }
 },
 "nbformat": 4,
 "nbformat_minor": 5
}
